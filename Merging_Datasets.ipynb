{
 "cells": [
  {
   "cell_type": "code",
   "execution_count": 2,
   "metadata": {},
   "outputs": [],
   "source": [
    "from IPython.core.interactiveshell import InteractiveShell\n",
    "InteractiveShell.ast_node_interactivity = \"all\"\n",
    "\n",
    "import pandas as pd"
   ]
  },
  {
   "cell_type": "code",
   "execution_count": 47,
   "metadata": {},
   "outputs": [],
   "source": [
    "speed = pd.read_csv('Speed_Camera_Violations.csv')\n",
    "crimes = pd.read_csv('Crimes_-_2001_to_present.csv')"
   ]
  },
  {
   "cell_type": "code",
   "execution_count": 48,
   "metadata": {},
   "outputs": [
    {
     "data": {
      "text/html": [
       "<div>\n",
       "<style scoped>\n",
       "    .dataframe tbody tr th:only-of-type {\n",
       "        vertical-align: middle;\n",
       "    }\n",
       "\n",
       "    .dataframe tbody tr th {\n",
       "        vertical-align: top;\n",
       "    }\n",
       "\n",
       "    .dataframe thead th {\n",
       "        text-align: right;\n",
       "    }\n",
       "</style>\n",
       "<table border=\"1\" class=\"dataframe\">\n",
       "  <thead>\n",
       "    <tr style=\"text-align: right;\">\n",
       "      <th></th>\n",
       "      <th>ADDRESS</th>\n",
       "      <th>CAMERA ID</th>\n",
       "      <th>VIOLATION DATE</th>\n",
       "      <th>VIOLATIONS</th>\n",
       "      <th>X COORDINATE</th>\n",
       "      <th>Y COORDINATE</th>\n",
       "      <th>LATITUDE</th>\n",
       "      <th>LONGITUDE</th>\n",
       "      <th>ADJ_LAT</th>\n",
       "      <th>ADJ_LONG</th>\n",
       "    </tr>\n",
       "  </thead>\n",
       "  <tbody>\n",
       "    <tr>\n",
       "      <th>0</th>\n",
       "      <td>10318 S INDIANAPOLIS</td>\n",
       "      <td>CHI120</td>\n",
       "      <td>4/10/19</td>\n",
       "      <td>81</td>\n",
       "      <td>1203645.368</td>\n",
       "      <td>1837056.145</td>\n",
       "      <td>41.707577</td>\n",
       "      <td>-87.529848</td>\n",
       "      <td>41.70</td>\n",
       "      <td>-87.52</td>\n",
       "    </tr>\n",
       "    <tr>\n",
       "      <th>1</th>\n",
       "      <td>11144 S VINCENNES</td>\n",
       "      <td>CHI023</td>\n",
       "      <td>4/10/19</td>\n",
       "      <td>26</td>\n",
       "      <td>1166993.613</td>\n",
       "      <td>1830711.217</td>\n",
       "      <td>41.691025</td>\n",
       "      <td>-87.664248</td>\n",
       "      <td>41.69</td>\n",
       "      <td>-87.66</td>\n",
       "    </tr>\n",
       "    <tr>\n",
       "      <th>2</th>\n",
       "      <td>11153 S VINCENNES</td>\n",
       "      <td>CHI022</td>\n",
       "      <td>4/10/19</td>\n",
       "      <td>9</td>\n",
       "      <td>1167028.753</td>\n",
       "      <td>1830593.601</td>\n",
       "      <td>41.690702</td>\n",
       "      <td>-87.664122</td>\n",
       "      <td>41.69</td>\n",
       "      <td>-87.66</td>\n",
       "    </tr>\n",
       "    <tr>\n",
       "      <th>3</th>\n",
       "      <td>1142 W IRVING PARK</td>\n",
       "      <td>CHI095</td>\n",
       "      <td>4/10/19</td>\n",
       "      <td>53</td>\n",
       "      <td>1167789.529</td>\n",
       "      <td>1926747.107</td>\n",
       "      <td>41.954541</td>\n",
       "      <td>-87.658573</td>\n",
       "      <td>41.95</td>\n",
       "      <td>-87.65</td>\n",
       "    </tr>\n",
       "    <tr>\n",
       "      <th>4</th>\n",
       "      <td>115 N OGDEN</td>\n",
       "      <td>CHI077</td>\n",
       "      <td>4/10/19</td>\n",
       "      <td>20</td>\n",
       "      <td>1166484.902</td>\n",
       "      <td>1900735.487</td>\n",
       "      <td>41.883192</td>\n",
       "      <td>-87.664115</td>\n",
       "      <td>41.88</td>\n",
       "      <td>-87.66</td>\n",
       "    </tr>\n",
       "  </tbody>\n",
       "</table>\n",
       "</div>"
      ],
      "text/plain": [
       "                ADDRESS CAMERA ID VIOLATION DATE  VIOLATIONS  X COORDINATE  \\\n",
       "0  10318 S INDIANAPOLIS    CHI120        4/10/19          81   1203645.368   \n",
       "1     11144 S VINCENNES    CHI023        4/10/19          26   1166993.613   \n",
       "2     11153 S VINCENNES    CHI022        4/10/19           9   1167028.753   \n",
       "3    1142 W IRVING PARK    CHI095        4/10/19          53   1167789.529   \n",
       "4           115 N OGDEN    CHI077        4/10/19          20   1166484.902   \n",
       "\n",
       "   Y COORDINATE   LATITUDE  LONGITUDE  ADJ_LAT  ADJ_LONG  \n",
       "0   1837056.145  41.707577 -87.529848    41.70    -87.52  \n",
       "1   1830711.217  41.691025 -87.664248    41.69    -87.66  \n",
       "2   1830593.601  41.690702 -87.664122    41.69    -87.66  \n",
       "3   1926747.107  41.954541 -87.658573    41.95    -87.65  \n",
       "4   1900735.487  41.883192 -87.664115    41.88    -87.66  "
      ]
     },
     "execution_count": 48,
     "metadata": {},
     "output_type": "execute_result"
    }
   ],
   "source": [
    "speed.head()"
   ]
  },
  {
   "cell_type": "code",
   "execution_count": 49,
   "metadata": {},
   "outputs": [],
   "source": [
    "speed_ag = speed.groupby(['ADJ_LAT', 'ADJ_LONG'])['VIOLATIONS'].mean().reset_index()"
   ]
  },
  {
   "cell_type": "code",
   "execution_count": 50,
   "metadata": {},
   "outputs": [
    {
     "data": {
      "text/html": [
       "<div>\n",
       "<style scoped>\n",
       "    .dataframe tbody tr th:only-of-type {\n",
       "        vertical-align: middle;\n",
       "    }\n",
       "\n",
       "    .dataframe tbody tr th {\n",
       "        vertical-align: top;\n",
       "    }\n",
       "\n",
       "    .dataframe thead th {\n",
       "        text-align: right;\n",
       "    }\n",
       "</style>\n",
       "<table border=\"1\" class=\"dataframe\">\n",
       "  <thead>\n",
       "    <tr style=\"text-align: right;\">\n",
       "      <th></th>\n",
       "      <th>ADJ_LAT</th>\n",
       "      <th>ADJ_LONG</th>\n",
       "      <th>VIOLATIONS</th>\n",
       "    </tr>\n",
       "  </thead>\n",
       "  <tbody>\n",
       "    <tr>\n",
       "      <th>0</th>\n",
       "      <td>41.66</td>\n",
       "      <td>-87.63</td>\n",
       "      <td>144.247250</td>\n",
       "    </tr>\n",
       "    <tr>\n",
       "      <th>1</th>\n",
       "      <td>41.69</td>\n",
       "      <td>-87.71</td>\n",
       "      <td>17.538968</td>\n",
       "    </tr>\n",
       "    <tr>\n",
       "      <th>2</th>\n",
       "      <td>41.69</td>\n",
       "      <td>-87.66</td>\n",
       "      <td>15.456322</td>\n",
       "    </tr>\n",
       "    <tr>\n",
       "      <th>3</th>\n",
       "      <td>41.70</td>\n",
       "      <td>-87.68</td>\n",
       "      <td>3.750201</td>\n",
       "    </tr>\n",
       "    <tr>\n",
       "      <th>4</th>\n",
       "      <td>41.70</td>\n",
       "      <td>-87.52</td>\n",
       "      <td>100.892518</td>\n",
       "    </tr>\n",
       "  </tbody>\n",
       "</table>\n",
       "</div>"
      ],
      "text/plain": [
       "   ADJ_LAT  ADJ_LONG  VIOLATIONS\n",
       "0    41.66    -87.63  144.247250\n",
       "1    41.69    -87.71   17.538968\n",
       "2    41.69    -87.66   15.456322\n",
       "3    41.70    -87.68    3.750201\n",
       "4    41.70    -87.52  100.892518"
      ]
     },
     "execution_count": 50,
     "metadata": {},
     "output_type": "execute_result"
    }
   ],
   "source": [
    "speed_ag.head()"
   ]
  },
  {
   "cell_type": "code",
   "execution_count": 51,
   "metadata": {},
   "outputs": [],
   "source": [
    "crimes['Count'] = 1\n",
    "crimes_ag = crimes.groupby(['Adj_Lat', 'Adj_Long'])['Count'].sum().reset_index()"
   ]
  },
  {
   "cell_type": "code",
   "execution_count": 52,
   "metadata": {},
   "outputs": [
    {
     "data": {
      "text/html": [
       "<div>\n",
       "<style scoped>\n",
       "    .dataframe tbody tr th:only-of-type {\n",
       "        vertical-align: middle;\n",
       "    }\n",
       "\n",
       "    .dataframe tbody tr th {\n",
       "        vertical-align: top;\n",
       "    }\n",
       "\n",
       "    .dataframe thead th {\n",
       "        text-align: right;\n",
       "    }\n",
       "</style>\n",
       "<table border=\"1\" class=\"dataframe\">\n",
       "  <thead>\n",
       "    <tr style=\"text-align: right;\">\n",
       "      <th></th>\n",
       "      <th>Adj_Lat</th>\n",
       "      <th>Adj_Long</th>\n",
       "      <th>Count</th>\n",
       "    </tr>\n",
       "  </thead>\n",
       "  <tbody>\n",
       "    <tr>\n",
       "      <th>0</th>\n",
       "      <td>41.64</td>\n",
       "      <td>-87.61</td>\n",
       "      <td>181</td>\n",
       "    </tr>\n",
       "    <tr>\n",
       "      <th>1</th>\n",
       "      <td>41.64</td>\n",
       "      <td>-87.60</td>\n",
       "      <td>2</td>\n",
       "    </tr>\n",
       "    <tr>\n",
       "      <th>2</th>\n",
       "      <td>41.64</td>\n",
       "      <td>-87.59</td>\n",
       "      <td>1</td>\n",
       "    </tr>\n",
       "    <tr>\n",
       "      <th>3</th>\n",
       "      <td>41.64</td>\n",
       "      <td>-87.57</td>\n",
       "      <td>6</td>\n",
       "    </tr>\n",
       "    <tr>\n",
       "      <th>4</th>\n",
       "      <td>41.64</td>\n",
       "      <td>-87.56</td>\n",
       "      <td>8</td>\n",
       "    </tr>\n",
       "  </tbody>\n",
       "</table>\n",
       "</div>"
      ],
      "text/plain": [
       "   Adj_Lat  Adj_Long  Count\n",
       "0    41.64    -87.61    181\n",
       "1    41.64    -87.60      2\n",
       "2    41.64    -87.59      1\n",
       "3    41.64    -87.57      6\n",
       "4    41.64    -87.56      8"
      ]
     },
     "execution_count": 52,
     "metadata": {},
     "output_type": "execute_result"
    }
   ],
   "source": [
    "crimes_ag.head()"
   ]
  },
  {
   "cell_type": "code",
   "execution_count": 53,
   "metadata": {},
   "outputs": [],
   "source": [
    "merged = pd.merge(crimes_ag, speed_ag, how = 'inner', left_on=['Adj_Lat', 'Adj_Long'], right_on=['ADJ_LAT', 'ADJ_LONG'])"
   ]
  },
  {
   "cell_type": "code",
   "execution_count": 54,
   "metadata": {},
   "outputs": [],
   "source": [
    "merged.to_csv('crimes_speed_merged2.csv')"
   ]
  },
  {
   "cell_type": "code",
   "execution_count": null,
   "metadata": {},
   "outputs": [],
   "source": []
  }
 ],
 "metadata": {
  "kernelspec": {
   "display_name": "Python 3",
   "language": "python",
   "name": "python3"
  },
  "language_info": {
   "codemirror_mode": {
    "name": "ipython",
    "version": 3
   },
   "file_extension": ".py",
   "mimetype": "text/x-python",
   "name": "python",
   "nbconvert_exporter": "python",
   "pygments_lexer": "ipython3",
   "version": "3.7.1"
  }
 },
 "nbformat": 4,
 "nbformat_minor": 2
}
